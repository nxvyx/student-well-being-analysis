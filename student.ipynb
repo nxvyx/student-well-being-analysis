{
 "cells": [
  {
   "cell_type": "code",
   "execution_count": 9,
   "id": "b6805a7a",
   "metadata": {},
   "outputs": [],
   "source": [
    "import numpy as np\n",
    "import pandas as pd\n",
    "import tensorflow as tf\n",
    "import matplotlib.pyplot as plt\n",
    "import seaborn as sns"
   ]
  },
  {
   "cell_type": "code",
   "execution_count": 10,
   "id": "0acf693f",
   "metadata": {},
   "outputs": [
    {
     "data": {
      "text/html": [
       "<div>\n",
       "<style scoped>\n",
       "    .dataframe tbody tr th:only-of-type {\n",
       "        vertical-align: middle;\n",
       "    }\n",
       "\n",
       "    .dataframe tbody tr th {\n",
       "        vertical-align: top;\n",
       "    }\n",
       "\n",
       "    .dataframe thead th {\n",
       "        text-align: right;\n",
       "    }\n",
       "</style>\n",
       "<table border=\"1\" class=\"dataframe\">\n",
       "  <thead>\n",
       "    <tr style=\"text-align: right;\">\n",
       "      <th></th>\n",
       "      <th>Timestamp</th>\n",
       "      <th>Choose your gender</th>\n",
       "      <th>Age</th>\n",
       "      <th>What is your course?</th>\n",
       "      <th>Your current year of Study</th>\n",
       "      <th>What is your CGPA?</th>\n",
       "      <th>Marital status</th>\n",
       "      <th>Do you have Depression?</th>\n",
       "      <th>Do you have Anxiety?</th>\n",
       "      <th>Do you have Panic attack?</th>\n",
       "      <th>Did you seek any specialist for a treatment?</th>\n",
       "    </tr>\n",
       "  </thead>\n",
       "  <tbody>\n",
       "    <tr>\n",
       "      <th>0</th>\n",
       "      <td>8/7/2020 12:02</td>\n",
       "      <td>Female</td>\n",
       "      <td>18.0</td>\n",
       "      <td>Engineering</td>\n",
       "      <td>year 1</td>\n",
       "      <td>3.00 - 3.49</td>\n",
       "      <td>No</td>\n",
       "      <td>Yes</td>\n",
       "      <td>No</td>\n",
       "      <td>Yes</td>\n",
       "      <td>No</td>\n",
       "    </tr>\n",
       "    <tr>\n",
       "      <th>1</th>\n",
       "      <td>8/7/2020 12:04</td>\n",
       "      <td>Male</td>\n",
       "      <td>21.0</td>\n",
       "      <td>Islamic education</td>\n",
       "      <td>year 2</td>\n",
       "      <td>3.00 - 3.49</td>\n",
       "      <td>No</td>\n",
       "      <td>No</td>\n",
       "      <td>Yes</td>\n",
       "      <td>No</td>\n",
       "      <td>No</td>\n",
       "    </tr>\n",
       "    <tr>\n",
       "      <th>2</th>\n",
       "      <td>8/7/2020 12:05</td>\n",
       "      <td>Male</td>\n",
       "      <td>19.0</td>\n",
       "      <td>BIT</td>\n",
       "      <td>Year 1</td>\n",
       "      <td>3.00 - 3.49</td>\n",
       "      <td>No</td>\n",
       "      <td>Yes</td>\n",
       "      <td>Yes</td>\n",
       "      <td>Yes</td>\n",
       "      <td>No</td>\n",
       "    </tr>\n",
       "    <tr>\n",
       "      <th>3</th>\n",
       "      <td>8/7/2020 12:06</td>\n",
       "      <td>Female</td>\n",
       "      <td>22.0</td>\n",
       "      <td>Laws</td>\n",
       "      <td>year 3</td>\n",
       "      <td>3.00 - 3.49</td>\n",
       "      <td>Yes</td>\n",
       "      <td>Yes</td>\n",
       "      <td>No</td>\n",
       "      <td>No</td>\n",
       "      <td>No</td>\n",
       "    </tr>\n",
       "    <tr>\n",
       "      <th>4</th>\n",
       "      <td>8/7/2020 12:13</td>\n",
       "      <td>Male</td>\n",
       "      <td>23.0</td>\n",
       "      <td>Mathemathics</td>\n",
       "      <td>year 4</td>\n",
       "      <td>3.00 - 3.49</td>\n",
       "      <td>No</td>\n",
       "      <td>No</td>\n",
       "      <td>No</td>\n",
       "      <td>No</td>\n",
       "      <td>No</td>\n",
       "    </tr>\n",
       "  </tbody>\n",
       "</table>\n",
       "</div>"
      ],
      "text/plain": [
       "        Timestamp Choose your gender   Age What is your course?  \\\n",
       "0  8/7/2020 12:02             Female  18.0          Engineering   \n",
       "1  8/7/2020 12:04               Male  21.0    Islamic education   \n",
       "2  8/7/2020 12:05               Male  19.0                  BIT   \n",
       "3  8/7/2020 12:06             Female  22.0                 Laws   \n",
       "4  8/7/2020 12:13               Male  23.0         Mathemathics   \n",
       "\n",
       "  Your current year of Study What is your CGPA? Marital status  \\\n",
       "0                     year 1        3.00 - 3.49             No   \n",
       "1                     year 2        3.00 - 3.49             No   \n",
       "2                     Year 1        3.00 - 3.49             No   \n",
       "3                     year 3        3.00 - 3.49            Yes   \n",
       "4                     year 4        3.00 - 3.49             No   \n",
       "\n",
       "  Do you have Depression? Do you have Anxiety? Do you have Panic attack?  \\\n",
       "0                     Yes                   No                       Yes   \n",
       "1                      No                  Yes                        No   \n",
       "2                     Yes                  Yes                       Yes   \n",
       "3                     Yes                   No                        No   \n",
       "4                      No                   No                        No   \n",
       "\n",
       "  Did you seek any specialist for a treatment?  \n",
       "0                                           No  \n",
       "1                                           No  \n",
       "2                                           No  \n",
       "3                                           No  \n",
       "4                                           No  "
      ]
     },
     "execution_count": 10,
     "metadata": {},
     "output_type": "execute_result"
    }
   ],
   "source": [
    "df = pd.read_csv(\"Student Mental health.csv\")\n",
    "df.head(5)"
   ]
  },
  {
   "cell_type": "code",
   "execution_count": 11,
   "id": "f45a1aa7",
   "metadata": {},
   "outputs": [
    {
     "data": {
      "text/html": [
       "<div>\n",
       "<style scoped>\n",
       "    .dataframe tbody tr th:only-of-type {\n",
       "        vertical-align: middle;\n",
       "    }\n",
       "\n",
       "    .dataframe tbody tr th {\n",
       "        vertical-align: top;\n",
       "    }\n",
       "\n",
       "    .dataframe thead th {\n",
       "        text-align: right;\n",
       "    }\n",
       "</style>\n",
       "<table border=\"1\" class=\"dataframe\">\n",
       "  <thead>\n",
       "    <tr style=\"text-align: right;\">\n",
       "      <th></th>\n",
       "      <th>Time</th>\n",
       "      <th>Gender</th>\n",
       "      <th>Age</th>\n",
       "      <th>Major</th>\n",
       "      <th>Year</th>\n",
       "      <th>CGPA</th>\n",
       "      <th>Marriage</th>\n",
       "      <th>Depression</th>\n",
       "      <th>Anxiety</th>\n",
       "      <th>Panic</th>\n",
       "      <th>Treatment</th>\n",
       "    </tr>\n",
       "  </thead>\n",
       "  <tbody>\n",
       "    <tr>\n",
       "      <th>0</th>\n",
       "      <td>8/7/2020 12:02</td>\n",
       "      <td>Female</td>\n",
       "      <td>18.0</td>\n",
       "      <td>Engineering</td>\n",
       "      <td>year 1</td>\n",
       "      <td>3.00 - 3.49</td>\n",
       "      <td>No</td>\n",
       "      <td>Yes</td>\n",
       "      <td>No</td>\n",
       "      <td>Yes</td>\n",
       "      <td>No</td>\n",
       "    </tr>\n",
       "    <tr>\n",
       "      <th>1</th>\n",
       "      <td>8/7/2020 12:04</td>\n",
       "      <td>Male</td>\n",
       "      <td>21.0</td>\n",
       "      <td>Islamic education</td>\n",
       "      <td>year 2</td>\n",
       "      <td>3.00 - 3.49</td>\n",
       "      <td>No</td>\n",
       "      <td>No</td>\n",
       "      <td>Yes</td>\n",
       "      <td>No</td>\n",
       "      <td>No</td>\n",
       "    </tr>\n",
       "    <tr>\n",
       "      <th>2</th>\n",
       "      <td>8/7/2020 12:05</td>\n",
       "      <td>Male</td>\n",
       "      <td>19.0</td>\n",
       "      <td>BIT</td>\n",
       "      <td>Year 1</td>\n",
       "      <td>3.00 - 3.49</td>\n",
       "      <td>No</td>\n",
       "      <td>Yes</td>\n",
       "      <td>Yes</td>\n",
       "      <td>Yes</td>\n",
       "      <td>No</td>\n",
       "    </tr>\n",
       "    <tr>\n",
       "      <th>3</th>\n",
       "      <td>8/7/2020 12:06</td>\n",
       "      <td>Female</td>\n",
       "      <td>22.0</td>\n",
       "      <td>Laws</td>\n",
       "      <td>year 3</td>\n",
       "      <td>3.00 - 3.49</td>\n",
       "      <td>Yes</td>\n",
       "      <td>Yes</td>\n",
       "      <td>No</td>\n",
       "      <td>No</td>\n",
       "      <td>No</td>\n",
       "    </tr>\n",
       "    <tr>\n",
       "      <th>4</th>\n",
       "      <td>8/7/2020 12:13</td>\n",
       "      <td>Male</td>\n",
       "      <td>23.0</td>\n",
       "      <td>Mathemathics</td>\n",
       "      <td>year 4</td>\n",
       "      <td>3.00 - 3.49</td>\n",
       "      <td>No</td>\n",
       "      <td>No</td>\n",
       "      <td>No</td>\n",
       "      <td>No</td>\n",
       "      <td>No</td>\n",
       "    </tr>\n",
       "  </tbody>\n",
       "</table>\n",
       "</div>"
      ],
      "text/plain": [
       "             Time  Gender   Age              Major    Year         CGPA  \\\n",
       "0  8/7/2020 12:02  Female  18.0        Engineering  year 1  3.00 - 3.49   \n",
       "1  8/7/2020 12:04    Male  21.0  Islamic education  year 2  3.00 - 3.49   \n",
       "2  8/7/2020 12:05    Male  19.0                BIT  Year 1  3.00 - 3.49   \n",
       "3  8/7/2020 12:06  Female  22.0               Laws  year 3  3.00 - 3.49   \n",
       "4  8/7/2020 12:13    Male  23.0       Mathemathics  year 4  3.00 - 3.49   \n",
       "\n",
       "  Marriage Depression Anxiety Panic Treatment  \n",
       "0       No        Yes      No   Yes        No  \n",
       "1       No         No     Yes    No        No  \n",
       "2       No        Yes     Yes   Yes        No  \n",
       "3      Yes        Yes      No    No        No  \n",
       "4       No         No      No    No        No  "
      ]
     },
     "execution_count": 11,
     "metadata": {},
     "output_type": "execute_result"
    }
   ],
   "source": [
    "new_columns = ['Time','Gender','Age','Major','Year','CGPA','Marriage','Depression','Anxiety','Panic','Treatment']\n",
    "df.columns = new_columns\n",
    "df.head()"
   ]
  },
  {
   "cell_type": "code",
   "execution_count": 52,
   "id": "57592e6c",
   "metadata": {},
   "outputs": [
    {
     "data": {
      "text/html": [
       "<div>\n",
       "<style scoped>\n",
       "    .dataframe tbody tr th:only-of-type {\n",
       "        vertical-align: middle;\n",
       "    }\n",
       "\n",
       "    .dataframe tbody tr th {\n",
       "        vertical-align: top;\n",
       "    }\n",
       "\n",
       "    .dataframe thead th {\n",
       "        text-align: right;\n",
       "    }\n",
       "</style>\n",
       "<table border=\"1\" class=\"dataframe\">\n",
       "  <thead>\n",
       "    <tr style=\"text-align: right;\">\n",
       "      <th></th>\n",
       "      <th>Gender</th>\n",
       "      <th>Age</th>\n",
       "      <th>Major</th>\n",
       "      <th>Year</th>\n",
       "      <th>CGPA</th>\n",
       "      <th>Marriage</th>\n",
       "      <th>Depression</th>\n",
       "      <th>Anxiety</th>\n",
       "      <th>Panic</th>\n",
       "      <th>Treatment</th>\n",
       "    </tr>\n",
       "  </thead>\n",
       "  <tbody>\n",
       "    <tr>\n",
       "      <th>count</th>\n",
       "      <td>100.000000</td>\n",
       "      <td>100.00000</td>\n",
       "      <td>100.000000</td>\n",
       "      <td>100.000000</td>\n",
       "      <td>100.000000</td>\n",
       "      <td>100.000000</td>\n",
       "      <td>100.000000</td>\n",
       "      <td>100.000000</td>\n",
       "      <td>100.000000</td>\n",
       "      <td>100.000000</td>\n",
       "    </tr>\n",
       "    <tr>\n",
       "      <th>mean</th>\n",
       "      <td>0.250000</td>\n",
       "      <td>20.53000</td>\n",
       "      <td>17.190000</td>\n",
       "      <td>1.980000</td>\n",
       "      <td>4.310000</td>\n",
       "      <td>0.160000</td>\n",
       "      <td>0.350000</td>\n",
       "      <td>0.340000</td>\n",
       "      <td>0.330000</td>\n",
       "      <td>0.060000</td>\n",
       "    </tr>\n",
       "    <tr>\n",
       "      <th>std</th>\n",
       "      <td>0.435194</td>\n",
       "      <td>2.49628</td>\n",
       "      <td>14.017086</td>\n",
       "      <td>0.994734</td>\n",
       "      <td>0.884148</td>\n",
       "      <td>0.368453</td>\n",
       "      <td>0.479372</td>\n",
       "      <td>0.476095</td>\n",
       "      <td>0.472582</td>\n",
       "      <td>0.238683</td>\n",
       "    </tr>\n",
       "    <tr>\n",
       "      <th>min</th>\n",
       "      <td>0.000000</td>\n",
       "      <td>18.00000</td>\n",
       "      <td>0.000000</td>\n",
       "      <td>1.000000</td>\n",
       "      <td>1.000000</td>\n",
       "      <td>0.000000</td>\n",
       "      <td>0.000000</td>\n",
       "      <td>0.000000</td>\n",
       "      <td>0.000000</td>\n",
       "      <td>0.000000</td>\n",
       "    </tr>\n",
       "    <tr>\n",
       "      <th>25%</th>\n",
       "      <td>0.000000</td>\n",
       "      <td>18.00000</td>\n",
       "      <td>4.000000</td>\n",
       "      <td>1.000000</td>\n",
       "      <td>4.000000</td>\n",
       "      <td>0.000000</td>\n",
       "      <td>0.000000</td>\n",
       "      <td>0.000000</td>\n",
       "      <td>0.000000</td>\n",
       "      <td>0.000000</td>\n",
       "    </tr>\n",
       "    <tr>\n",
       "      <th>50%</th>\n",
       "      <td>0.000000</td>\n",
       "      <td>19.00000</td>\n",
       "      <td>17.000000</td>\n",
       "      <td>2.000000</td>\n",
       "      <td>4.000000</td>\n",
       "      <td>0.000000</td>\n",
       "      <td>0.000000</td>\n",
       "      <td>0.000000</td>\n",
       "      <td>0.000000</td>\n",
       "      <td>0.000000</td>\n",
       "    </tr>\n",
       "    <tr>\n",
       "      <th>75%</th>\n",
       "      <td>0.250000</td>\n",
       "      <td>23.00000</td>\n",
       "      <td>28.000000</td>\n",
       "      <td>3.000000</td>\n",
       "      <td>5.000000</td>\n",
       "      <td>0.000000</td>\n",
       "      <td>1.000000</td>\n",
       "      <td>1.000000</td>\n",
       "      <td>1.000000</td>\n",
       "      <td>0.000000</td>\n",
       "    </tr>\n",
       "    <tr>\n",
       "      <th>max</th>\n",
       "      <td>1.000000</td>\n",
       "      <td>24.00000</td>\n",
       "      <td>48.000000</td>\n",
       "      <td>4.000000</td>\n",
       "      <td>5.000000</td>\n",
       "      <td>1.000000</td>\n",
       "      <td>1.000000</td>\n",
       "      <td>1.000000</td>\n",
       "      <td>1.000000</td>\n",
       "      <td>1.000000</td>\n",
       "    </tr>\n",
       "  </tbody>\n",
       "</table>\n",
       "</div>"
      ],
      "text/plain": [
       "           Gender        Age       Major        Year        CGPA    Marriage  \\\n",
       "count  100.000000  100.00000  100.000000  100.000000  100.000000  100.000000   \n",
       "mean     0.250000   20.53000   17.190000    1.980000    4.310000    0.160000   \n",
       "std      0.435194    2.49628   14.017086    0.994734    0.884148    0.368453   \n",
       "min      0.000000   18.00000    0.000000    1.000000    1.000000    0.000000   \n",
       "25%      0.000000   18.00000    4.000000    1.000000    4.000000    0.000000   \n",
       "50%      0.000000   19.00000   17.000000    2.000000    4.000000    0.000000   \n",
       "75%      0.250000   23.00000   28.000000    3.000000    5.000000    0.000000   \n",
       "max      1.000000   24.00000   48.000000    4.000000    5.000000    1.000000   \n",
       "\n",
       "       Depression     Anxiety       Panic   Treatment  \n",
       "count  100.000000  100.000000  100.000000  100.000000  \n",
       "mean     0.350000    0.340000    0.330000    0.060000  \n",
       "std      0.479372    0.476095    0.472582    0.238683  \n",
       "min      0.000000    0.000000    0.000000    0.000000  \n",
       "25%      0.000000    0.000000    0.000000    0.000000  \n",
       "50%      0.000000    0.000000    0.000000    0.000000  \n",
       "75%      1.000000    1.000000    1.000000    0.000000  \n",
       "max      1.000000    1.000000    1.000000    1.000000  "
      ]
     },
     "execution_count": 52,
     "metadata": {},
     "output_type": "execute_result"
    }
   ],
   "source": [
    "df.describe()"
   ]
  },
  {
   "cell_type": "code",
   "execution_count": 13,
   "id": "2f9b7266",
   "metadata": {},
   "outputs": [
    {
     "data": {
      "text/plain": [
       "0"
      ]
     },
     "execution_count": 13,
     "metadata": {},
     "output_type": "execute_result"
    }
   ],
   "source": [
    "df.duplicated().sum()"
   ]
  },
  {
   "cell_type": "code",
   "execution_count": 14,
   "id": "3755e62a",
   "metadata": {},
   "outputs": [
    {
     "data": {
      "text/plain": [
       "Time          0\n",
       "Gender        0\n",
       "Age           0\n",
       "Major         0\n",
       "Year          0\n",
       "CGPA          0\n",
       "Marriage      0\n",
       "Depression    0\n",
       "Anxiety       0\n",
       "Panic         0\n",
       "Treatment     0\n",
       "dtype: int64"
      ]
     },
     "execution_count": 14,
     "metadata": {},
     "output_type": "execute_result"
    }
   ],
   "source": [
    "df.isna().sum()\n",
    "df.dropna(inplace=True)\n",
    "df.isna().sum()"
   ]
  },
  {
   "cell_type": "code",
   "execution_count": 15,
   "id": "30fb36d2",
   "metadata": {},
   "outputs": [
    {
     "data": {
      "text/plain": [
       "Text(0, 0.5, 'Frequency')"
      ]
     },
     "execution_count": 15,
     "metadata": {},
     "output_type": "execute_result"
    },
    {
     "data": {
      "image/png": "[encoded data removed]",
      "text/plain": [
       "<Figure size 640x480 with 1 Axes>"
      ]
     },
     "metadata": {},
     "output_type": "display_data"
    }
   ],
   "source": [
    "df['Age'].hist()\n",
    "plt.title('Age distribution of participants')\n",
    "plt.xlabel('Age')\n",
    "plt.ylabel('Frequency')"
   ]
  },
  {
   "cell_type": "code",
   "execution_count": 16,
   "id": "da5fdf77",
   "metadata": {},
   "outputs": [
    {
     "data": {
      "text/plain": [
       "Text(0.5, 1.0, 'Depression by Age')"
      ]
     },
     "execution_count": 16,
     "metadata": {},
     "output_type": "execute_result"
    },
    {
     "data": {
      "image/png": "[encoded data removed]",
      "text/plain": [
       "<Figure size 640x480 with 1 Axes>"
      ]
     },
     "metadata": {},
     "output_type": "display_data"
    }
   ],
   "source": [
    "sns.boxplot(data=df,x='Depression',y='Age')\n",
    "plt.title('Depression by Age')"
   ]
  },
  {
   "cell_type": "code",
   "execution_count": 17,
   "id": "9419fa24",
   "metadata": {},
   "outputs": [
    {
     "data": {
      "text/plain": [
       "Text(0.5, 1.0, 'CGPA distribution')"
      ]
     },
     "execution_count": 17,
     "metadata": {},
     "output_type": "execute_result"
    },
    {
     "data": {
      "image/png": "[encoded data removed]",
      "text/plain": [
       "<Figure size 640x480 with 1 Axes>"
      ]
     },
     "metadata": {},
     "output_type": "display_data"
    }
   ],
   "source": [
    "sns.histplot(df['CGPA'].sort_values(),kde=True)\n",
    "plt.title('CGPA distribution')"
   ]
  },
  {
   "cell_type": "code",
   "execution_count": 18,
   "id": "26897ea3",
   "metadata": {},
   "outputs": [
    {
     "data": {
      "text/plain": [
       "Text(0.5, 1.0, 'Depression frequency')"
      ]
     },
     "execution_count": 18,
     "metadata": {},
     "output_type": "execute_result"
    },
    {
     "data": {
      "image/png": "[encoded data removed]",
      "text/plain": [
       "<Figure size 800x600 with 2 Axes>"
      ]
     },
     "metadata": {},
     "output_type": "display_data"
    }
   ],
   "source": [
    "fig = plt.figure(figsize=(8,6))\n",
    "plt.subplot(1,2,1)\n",
    "sns.countplot(data=df,x='Marriage',hue='Anxiety')\n",
    "plt.title('Marriage frequency')\n",
    "\n",
    "plt.subplot(1,2,2)\n",
    "sns.countplot(data=df, x= 'Depression',hue='Marriage')\n",
    "plt.title(\"Depression frequency\")"
   ]
  },
  {
   "cell_type": "code",
   "execution_count": 19,
   "id": "568ab81c",
   "metadata": {},
   "outputs": [
    {
     "data": {
      "text/html": [
       "<div>\n",
       "<style scoped>\n",
       "    .dataframe tbody tr th:only-of-type {\n",
       "        vertical-align: middle;\n",
       "    }\n",
       "\n",
       "    .dataframe tbody tr th {\n",
       "        vertical-align: top;\n",
       "    }\n",
       "\n",
       "    .dataframe thead th {\n",
       "        text-align: right;\n",
       "    }\n",
       "</style>\n",
       "<table border=\"1\" class=\"dataframe\">\n",
       "  <thead>\n",
       "    <tr style=\"text-align: right;\">\n",
       "      <th></th>\n",
       "      <th>Time</th>\n",
       "      <th>Gender</th>\n",
       "      <th>Age</th>\n",
       "      <th>Major</th>\n",
       "      <th>Year</th>\n",
       "      <th>CGPA</th>\n",
       "      <th>Marriage</th>\n",
       "      <th>Depression</th>\n",
       "      <th>Anxiety</th>\n",
       "      <th>Panic</th>\n",
       "      <th>Treatment</th>\n",
       "    </tr>\n",
       "  </thead>\n",
       "  <tbody>\n",
       "    <tr>\n",
       "      <th>0</th>\n",
       "      <td>8/7/2020 12:02</td>\n",
       "      <td>Female</td>\n",
       "      <td>18.0</td>\n",
       "      <td>Engineering</td>\n",
       "      <td>year 1</td>\n",
       "      <td>3.00 - 3.49</td>\n",
       "      <td>No</td>\n",
       "      <td>Yes</td>\n",
       "      <td>No</td>\n",
       "      <td>Yes</td>\n",
       "      <td>No</td>\n",
       "    </tr>\n",
       "    <tr>\n",
       "      <th>1</th>\n",
       "      <td>8/7/2020 12:04</td>\n",
       "      <td>Male</td>\n",
       "      <td>21.0</td>\n",
       "      <td>Islamic education</td>\n",
       "      <td>year 2</td>\n",
       "      <td>3.00 - 3.49</td>\n",
       "      <td>No</td>\n",
       "      <td>No</td>\n",
       "      <td>Yes</td>\n",
       "      <td>No</td>\n",
       "      <td>No</td>\n",
       "    </tr>\n",
       "    <tr>\n",
       "      <th>2</th>\n",
       "      <td>8/7/2020 12:05</td>\n",
       "      <td>Male</td>\n",
       "      <td>19.0</td>\n",
       "      <td>BIT</td>\n",
       "      <td>Year 1</td>\n",
       "      <td>3.00 - 3.49</td>\n",
       "      <td>No</td>\n",
       "      <td>Yes</td>\n",
       "      <td>Yes</td>\n",
       "      <td>Yes</td>\n",
       "      <td>No</td>\n",
       "    </tr>\n",
       "    <tr>\n",
       "      <th>3</th>\n",
       "      <td>8/7/2020 12:06</td>\n",
       "      <td>Female</td>\n",
       "      <td>22.0</td>\n",
       "      <td>Laws</td>\n",
       "      <td>year 3</td>\n",
       "      <td>3.00 - 3.49</td>\n",
       "      <td>Yes</td>\n",
       "      <td>Yes</td>\n",
       "      <td>No</td>\n",
       "      <td>No</td>\n",
       "      <td>No</td>\n",
       "    </tr>\n",
       "    <tr>\n",
       "      <th>4</th>\n",
       "      <td>8/7/2020 12:13</td>\n",
       "      <td>Male</td>\n",
       "      <td>23.0</td>\n",
       "      <td>Mathemathics</td>\n",
       "      <td>year 4</td>\n",
       "      <td>3.00 - 3.49</td>\n",
       "      <td>No</td>\n",
       "      <td>No</td>\n",
       "      <td>No</td>\n",
       "      <td>No</td>\n",
       "      <td>No</td>\n",
       "    </tr>\n",
       "  </tbody>\n",
       "</table>\n",
       "</div>"
      ],
      "text/plain": [
       "             Time  Gender   Age              Major    Year         CGPA  \\\n",
       "0  8/7/2020 12:02  Female  18.0        Engineering  year 1  3.00 - 3.49   \n",
       "1  8/7/2020 12:04    Male  21.0  Islamic education  year 2  3.00 - 3.49   \n",
       "2  8/7/2020 12:05    Male  19.0                BIT  Year 1  3.00 - 3.49   \n",
       "3  8/7/2020 12:06  Female  22.0               Laws  year 3  3.00 - 3.49   \n",
       "4  8/7/2020 12:13    Male  23.0       Mathemathics  year 4  3.00 - 3.49   \n",
       "\n",
       "  Marriage Depression Anxiety Panic Treatment  \n",
       "0       No        Yes      No   Yes        No  \n",
       "1       No         No     Yes    No        No  \n",
       "2       No        Yes     Yes   Yes        No  \n",
       "3      Yes        Yes      No    No        No  \n",
       "4       No         No      No    No        No  "
      ]
     },
     "execution_count": 19,
     "metadata": {},
     "output_type": "execute_result"
    }
   ],
   "source": [
    "df.head()"
   ]
  },
  {
   "cell_type": "code",
   "execution_count": 56,
   "id": "faa1c5aa",
   "metadata": {},
   "outputs": [],
   "source": [
    "cols = ['Marriage','Depression','Panic','Anxiety','Treatment']\n",
    "\n",
    "def check(x):\n",
    "    if x == 'Yes':\n",
    "        return 1\n",
    "    else:\n",
    "        return 0\n",
    "\n",
    "for i in cols:\n",
    "    df[i] = df[i].apply(lambda x:1 if x =='Yes' else 0)"
   ]
  },
  {
   "cell_type": "code",
   "execution_count": 21,
   "id": "72ed4797",
   "metadata": {},
   "outputs": [
    {
     "data": {
      "text/html": [
       "<div>\n",
       "<style scoped>\n",
       "    .dataframe tbody tr th:only-of-type {\n",
       "        vertical-align: middle;\n",
       "    }\n",
       "\n",
       "    .dataframe tbody tr th {\n",
       "        vertical-align: top;\n",
       "    }\n",
       "\n",
       "    .dataframe thead th {\n",
       "        text-align: right;\n",
       "    }\n",
       "</style>\n",
       "<table border=\"1\" class=\"dataframe\">\n",
       "  <thead>\n",
       "    <tr style=\"text-align: right;\">\n",
       "      <th></th>\n",
       "      <th>Time</th>\n",
       "      <th>Gender</th>\n",
       "      <th>Age</th>\n",
       "      <th>Major</th>\n",
       "      <th>Year</th>\n",
       "      <th>CGPA</th>\n",
       "      <th>Marriage</th>\n",
       "      <th>Depression</th>\n",
       "      <th>Anxiety</th>\n",
       "      <th>Panic</th>\n",
       "      <th>Treatment</th>\n",
       "    </tr>\n",
       "  </thead>\n",
       "  <tbody>\n",
       "    <tr>\n",
       "      <th>0</th>\n",
       "      <td>8/7/2020 12:02</td>\n",
       "      <td>Female</td>\n",
       "      <td>18.0</td>\n",
       "      <td>Engineering</td>\n",
       "      <td>1</td>\n",
       "      <td>3.00 - 3.49</td>\n",
       "      <td>0</td>\n",
       "      <td>1</td>\n",
       "      <td>0</td>\n",
       "      <td>1</td>\n",
       "      <td>0</td>\n",
       "    </tr>\n",
       "    <tr>\n",
       "      <th>1</th>\n",
       "      <td>8/7/2020 12:04</td>\n",
       "      <td>Male</td>\n",
       "      <td>21.0</td>\n",
       "      <td>Islamic education</td>\n",
       "      <td>2</td>\n",
       "      <td>3.00 - 3.49</td>\n",
       "      <td>0</td>\n",
       "      <td>0</td>\n",
       "      <td>1</td>\n",
       "      <td>0</td>\n",
       "      <td>0</td>\n",
       "    </tr>\n",
       "    <tr>\n",
       "      <th>2</th>\n",
       "      <td>8/7/2020 12:05</td>\n",
       "      <td>Male</td>\n",
       "      <td>19.0</td>\n",
       "      <td>BIT</td>\n",
       "      <td>1</td>\n",
       "      <td>3.00 - 3.49</td>\n",
       "      <td>0</td>\n",
       "      <td>1</td>\n",
       "      <td>1</td>\n",
       "      <td>1</td>\n",
       "      <td>0</td>\n",
       "    </tr>\n",
       "    <tr>\n",
       "      <th>3</th>\n",
       "      <td>8/7/2020 12:06</td>\n",
       "      <td>Female</td>\n",
       "      <td>22.0</td>\n",
       "      <td>Laws</td>\n",
       "      <td>3</td>\n",
       "      <td>3.00 - 3.49</td>\n",
       "      <td>1</td>\n",
       "      <td>1</td>\n",
       "      <td>0</td>\n",
       "      <td>0</td>\n",
       "      <td>0</td>\n",
       "    </tr>\n",
       "    <tr>\n",
       "      <th>4</th>\n",
       "      <td>8/7/2020 12:13</td>\n",
       "      <td>Male</td>\n",
       "      <td>23.0</td>\n",
       "      <td>Mathemathics</td>\n",
       "      <td>4</td>\n",
       "      <td>3.00 - 3.49</td>\n",
       "      <td>0</td>\n",
       "      <td>0</td>\n",
       "      <td>0</td>\n",
       "      <td>0</td>\n",
       "      <td>0</td>\n",
       "    </tr>\n",
       "    <tr>\n",
       "      <th>...</th>\n",
       "      <td>...</td>\n",
       "      <td>...</td>\n",
       "      <td>...</td>\n",
       "      <td>...</td>\n",
       "      <td>...</td>\n",
       "      <td>...</td>\n",
       "      <td>...</td>\n",
       "      <td>...</td>\n",
       "      <td>...</td>\n",
       "      <td>...</td>\n",
       "      <td>...</td>\n",
       "    </tr>\n",
       "    <tr>\n",
       "      <th>96</th>\n",
       "      <td>13/07/2020 19:56:49</td>\n",
       "      <td>Female</td>\n",
       "      <td>21.0</td>\n",
       "      <td>BCS</td>\n",
       "      <td>1</td>\n",
       "      <td>3.50 - 4.00</td>\n",
       "      <td>0</td>\n",
       "      <td>0</td>\n",
       "      <td>1</td>\n",
       "      <td>0</td>\n",
       "      <td>0</td>\n",
       "    </tr>\n",
       "    <tr>\n",
       "      <th>97</th>\n",
       "      <td>13/07/2020 21:21:42</td>\n",
       "      <td>Male</td>\n",
       "      <td>18.0</td>\n",
       "      <td>Engineering</td>\n",
       "      <td>2</td>\n",
       "      <td>3.00 - 3.49</td>\n",
       "      <td>0</td>\n",
       "      <td>1</td>\n",
       "      <td>1</td>\n",
       "      <td>0</td>\n",
       "      <td>0</td>\n",
       "    </tr>\n",
       "    <tr>\n",
       "      <th>98</th>\n",
       "      <td>13/07/2020 21:22:56</td>\n",
       "      <td>Female</td>\n",
       "      <td>19.0</td>\n",
       "      <td>Nursing</td>\n",
       "      <td>3</td>\n",
       "      <td>3.50 - 4.00</td>\n",
       "      <td>1</td>\n",
       "      <td>1</td>\n",
       "      <td>0</td>\n",
       "      <td>1</td>\n",
       "      <td>0</td>\n",
       "    </tr>\n",
       "    <tr>\n",
       "      <th>99</th>\n",
       "      <td>13/07/2020 21:23:57</td>\n",
       "      <td>Female</td>\n",
       "      <td>23.0</td>\n",
       "      <td>Pendidikan Islam</td>\n",
       "      <td>4</td>\n",
       "      <td>3.50 - 4.00</td>\n",
       "      <td>0</td>\n",
       "      <td>0</td>\n",
       "      <td>0</td>\n",
       "      <td>0</td>\n",
       "      <td>0</td>\n",
       "    </tr>\n",
       "    <tr>\n",
       "      <th>100</th>\n",
       "      <td>18/07/2020 20:16:21</td>\n",
       "      <td>Male</td>\n",
       "      <td>20.0</td>\n",
       "      <td>Biomedical science</td>\n",
       "      <td>2</td>\n",
       "      <td>3.00 - 3.49</td>\n",
       "      <td>0</td>\n",
       "      <td>0</td>\n",
       "      <td>0</td>\n",
       "      <td>0</td>\n",
       "      <td>0</td>\n",
       "    </tr>\n",
       "  </tbody>\n",
       "</table>\n",
       "<p>100 rows × 11 columns</p>\n",
       "</div>"
      ],
      "text/plain": [
       "                    Time  Gender   Age               Major  Year         CGPA  \\\n",
       "0         8/7/2020 12:02  Female  18.0         Engineering     1  3.00 - 3.49   \n",
       "1         8/7/2020 12:04    Male  21.0   Islamic education     2  3.00 - 3.49   \n",
       "2         8/7/2020 12:05    Male  19.0                 BIT     1  3.00 - 3.49   \n",
       "3         8/7/2020 12:06  Female  22.0                Laws     3  3.00 - 3.49   \n",
       "4         8/7/2020 12:13    Male  23.0        Mathemathics     4  3.00 - 3.49   \n",
       "..                   ...     ...   ...                 ...   ...          ...   \n",
       "96   13/07/2020 19:56:49  Female  21.0                 BCS     1  3.50 - 4.00   \n",
       "97   13/07/2020 21:21:42    Male  18.0         Engineering     2  3.00 - 3.49   \n",
       "98   13/07/2020 21:22:56  Female  19.0            Nursing      3  3.50 - 4.00   \n",
       "99   13/07/2020 21:23:57  Female  23.0    Pendidikan Islam     4  3.50 - 4.00   \n",
       "100  18/07/2020 20:16:21    Male  20.0  Biomedical science     2  3.00 - 3.49   \n",
       "\n",
       "     Marriage  Depression  Anxiety  Panic  Treatment  \n",
       "0           0           1        0      1          0  \n",
       "1           0           0        1      0          0  \n",
       "2           0           1        1      1          0  \n",
       "3           1           1        0      0          0  \n",
       "4           0           0        0      0          0  \n",
       "..        ...         ...      ...    ...        ...  \n",
       "96          0           0        1      0          0  \n",
       "97          0           1        1      0          0  \n",
       "98          1           1        0      1          0  \n",
       "99          0           0        0      0          0  \n",
       "100         0           0        0      0          0  \n",
       "\n",
       "[100 rows x 11 columns]"
      ]
     },
     "execution_count": 21,
     "metadata": {},
     "output_type": "execute_result"
    }
   ],
   "source": [
    "df['Year']=df['Year'].apply(lambda x: int(x[-1:])) #Turn the string to int\n",
    "df"
   ]
  },
  {
   "cell_type": "code",
   "execution_count": 22,
   "id": "92775d2e",
   "metadata": {},
   "outputs": [
    {
     "data": {
      "text/plain": [
       "array(['3.00 - 3.49', '3.50 - 4.00', '3.50 - 4.00 ', '2.50 - 2.99',\n",
       "       '2.00 - 2.49', '0 - 1.99'], dtype=object)"
      ]
     },
     "execution_count": 22,
     "metadata": {},
     "output_type": "execute_result"
    }
   ],
   "source": [
    "df['CGPA'].unique()"
   ]
  },
  {
   "cell_type": "code",
   "execution_count": 23,
   "id": "e946becd",
   "metadata": {},
   "outputs": [],
   "source": [
    "df['CGPA'].value_counts().sort_values()\n",
    "\n",
    "def change_cgpa(x):\n",
    "    if (x == '3.50 - 4.00' or x == '3.50 - 4.00 '):\n",
    "        x = 5\n",
    "        return x\n",
    "    elif x=='3.00 - 3.49' :\n",
    "        x = 4\n",
    "        return x\n",
    "    elif x == '2.50 - 2.99':\n",
    "        x = 3\n",
    "        return x\n",
    "    elif x== '2.00 - 2.49':\n",
    "        x = 2\n",
    "        return x\n",
    "    else:\n",
    "        x=1\n",
    "        return x\n",
    "\n",
    "df['CGPA']=df['CGPA'].apply(lambda x:change_cgpa(x))"
   ]
  },
  {
   "cell_type": "code",
   "execution_count": 24,
   "id": "a6fe5010",
   "metadata": {},
   "outputs": [
    {
     "data": {
      "text/html": [
       "<div>\n",
       "<style scoped>\n",
       "    .dataframe tbody tr th:only-of-type {\n",
       "        vertical-align: middle;\n",
       "    }\n",
       "\n",
       "    .dataframe tbody tr th {\n",
       "        vertical-align: top;\n",
       "    }\n",
       "\n",
       "    .dataframe thead th {\n",
       "        text-align: right;\n",
       "    }\n",
       "</style>\n",
       "<table border=\"1\" class=\"dataframe\">\n",
       "  <thead>\n",
       "    <tr style=\"text-align: right;\">\n",
       "      <th></th>\n",
       "      <th>Time</th>\n",
       "      <th>Gender</th>\n",
       "      <th>Age</th>\n",
       "      <th>Major</th>\n",
       "      <th>Year</th>\n",
       "      <th>CGPA</th>\n",
       "      <th>Marriage</th>\n",
       "      <th>Depression</th>\n",
       "      <th>Anxiety</th>\n",
       "      <th>Panic</th>\n",
       "      <th>Treatment</th>\n",
       "    </tr>\n",
       "  </thead>\n",
       "  <tbody>\n",
       "    <tr>\n",
       "      <th>0</th>\n",
       "      <td>8/7/2020 12:02</td>\n",
       "      <td>Female</td>\n",
       "      <td>18.0</td>\n",
       "      <td>Engineering</td>\n",
       "      <td>1</td>\n",
       "      <td>4</td>\n",
       "      <td>0</td>\n",
       "      <td>1</td>\n",
       "      <td>0</td>\n",
       "      <td>1</td>\n",
       "      <td>0</td>\n",
       "    </tr>\n",
       "    <tr>\n",
       "      <th>1</th>\n",
       "      <td>8/7/2020 12:04</td>\n",
       "      <td>Male</td>\n",
       "      <td>21.0</td>\n",
       "      <td>Islamic education</td>\n",
       "      <td>2</td>\n",
       "      <td>4</td>\n",
       "      <td>0</td>\n",
       "      <td>0</td>\n",
       "      <td>1</td>\n",
       "      <td>0</td>\n",
       "      <td>0</td>\n",
       "    </tr>\n",
       "    <tr>\n",
       "      <th>2</th>\n",
       "      <td>8/7/2020 12:05</td>\n",
       "      <td>Male</td>\n",
       "      <td>19.0</td>\n",
       "      <td>BIT</td>\n",
       "      <td>1</td>\n",
       "      <td>4</td>\n",
       "      <td>0</td>\n",
       "      <td>1</td>\n",
       "      <td>1</td>\n",
       "      <td>1</td>\n",
       "      <td>0</td>\n",
       "    </tr>\n",
       "    <tr>\n",
       "      <th>3</th>\n",
       "      <td>8/7/2020 12:06</td>\n",
       "      <td>Female</td>\n",
       "      <td>22.0</td>\n",
       "      <td>Laws</td>\n",
       "      <td>3</td>\n",
       "      <td>4</td>\n",
       "      <td>1</td>\n",
       "      <td>1</td>\n",
       "      <td>0</td>\n",
       "      <td>0</td>\n",
       "      <td>0</td>\n",
       "    </tr>\n",
       "    <tr>\n",
       "      <th>4</th>\n",
       "      <td>8/7/2020 12:13</td>\n",
       "      <td>Male</td>\n",
       "      <td>23.0</td>\n",
       "      <td>Mathemathics</td>\n",
       "      <td>4</td>\n",
       "      <td>4</td>\n",
       "      <td>0</td>\n",
       "      <td>0</td>\n",
       "      <td>0</td>\n",
       "      <td>0</td>\n",
       "      <td>0</td>\n",
       "    </tr>\n",
       "  </tbody>\n",
       "</table>\n",
       "</div>"
      ],
      "text/plain": [
       "             Time  Gender   Age              Major  Year  CGPA  Marriage  \\\n",
       "0  8/7/2020 12:02  Female  18.0        Engineering     1     4         0   \n",
       "1  8/7/2020 12:04    Male  21.0  Islamic education     2     4         0   \n",
       "2  8/7/2020 12:05    Male  19.0                BIT     1     4         0   \n",
       "3  8/7/2020 12:06  Female  22.0               Laws     3     4         1   \n",
       "4  8/7/2020 12:13    Male  23.0       Mathemathics     4     4         0   \n",
       "\n",
       "   Depression  Anxiety  Panic  Treatment  \n",
       "0           1        0      1          0  \n",
       "1           0        1      0          0  \n",
       "2           1        1      1          0  \n",
       "3           1        0      0          0  \n",
       "4           0        0      0          0  "
      ]
     },
     "execution_count": 24,
     "metadata": {},
     "output_type": "execute_result"
    }
   ],
   "source": [
    "df.head()"
   ]
  },
  {
   "cell_type": "code",
   "execution_count": 25,
   "id": "c2e2c9df",
   "metadata": {},
   "outputs": [],
   "source": [
    "# 0 for female, 1 for male\n",
    "df['Gender'] = df['Gender'].apply(lambda x: 0 if x == 'Female' else 1)"
   ]
  },
  {
   "cell_type": "code",
   "execution_count": 26,
   "id": "26928c21",
   "metadata": {},
   "outputs": [
    {
     "data": {
      "text/plain": [
       "Major\n",
       "BCS                        18\n",
       "Engineering                17\n",
       "BIT                         9\n",
       "Biomedical science          4\n",
       "KOE                         4\n",
       "BENL                        2\n",
       "Laws                        2\n",
       "psychology                  2\n",
       "Engine                      2\n",
       "Islamic Education           1\n",
       "Biotechnology               1\n",
       "engin                       1\n",
       "Econs                       1\n",
       "MHSC                        1\n",
       "Malcom                      1\n",
       "Kop                         1\n",
       "Human Sciences              1\n",
       "Communication               1\n",
       "Nursing                     1\n",
       "Diploma Nursing             1\n",
       "IT                          1\n",
       "Pendidikan Islam            1\n",
       "Radiography                 1\n",
       "Fiqh fatwa                  1\n",
       "DIPLOMA TESL                1\n",
       "Koe                         1\n",
       "Fiqh                        1\n",
       "CTS                         1\n",
       "koe                         1\n",
       "Benl                        1\n",
       "Kirkhs                      1\n",
       "Mathemathics                1\n",
       "Pendidikan islam            1\n",
       "Human Resources             1\n",
       "Irkhs                       1\n",
       "Psychology                  1\n",
       "KENMS                       1\n",
       "Accounting                  1\n",
       "ENM                         1\n",
       "Marine science              1\n",
       "Banking Studies             1\n",
       "Business Administration     1\n",
       "Law                         1\n",
       "KIRKHS                      1\n",
       "Usuluddin                   1\n",
       "TAASL                       1\n",
       "ALA                         1\n",
       "Islamic education           1\n",
       "Pendidikan Islam            1\n",
       "Name: count, dtype: int64"
      ]
     },
     "execution_count": 26,
     "metadata": {},
     "output_type": "execute_result"
    }
   ],
   "source": [
    "df['Major'].value_counts()"
   ]
  },
  {
   "cell_type": "code",
   "execution_count": 58,
   "id": "22a40319",
   "metadata": {},
   "outputs": [],
   "source": [
    "from sklearn.preprocessing import  LabelEncoder\n",
    "le = LabelEncoder()\n",
    "df['Major'] = le.fit_transform(df['Major'])"
   ]
  },
  {
   "cell_type": "code",
   "execution_count": 28,
   "id": "a994a34e",
   "metadata": {},
   "outputs": [],
   "source": [
    "df.drop('Time',axis=1,inplace=True)"
   ]
  },
  {
   "cell_type": "code",
   "execution_count": 29,
   "id": "9f32b74a",
   "metadata": {},
   "outputs": [
    {
     "data": {
      "text/html": [
       "<div>\n",
       "<style scoped>\n",
       "    .dataframe tbody tr th:only-of-type {\n",
       "        vertical-align: middle;\n",
       "    }\n",
       "\n",
       "    .dataframe tbody tr th {\n",
       "        vertical-align: top;\n",
       "    }\n",
       "\n",
       "    .dataframe thead th {\n",
       "        text-align: right;\n",
       "    }\n",
       "</style>\n",
       "<table border=\"1\" class=\"dataframe\">\n",
       "  <thead>\n",
       "    <tr style=\"text-align: right;\">\n",
       "      <th></th>\n",
       "      <th>Gender</th>\n",
       "      <th>Age</th>\n",
       "      <th>Major</th>\n",
       "      <th>Year</th>\n",
       "      <th>CGPA</th>\n",
       "      <th>Marriage</th>\n",
       "      <th>Depression</th>\n",
       "      <th>Anxiety</th>\n",
       "      <th>Panic</th>\n",
       "      <th>Treatment</th>\n",
       "    </tr>\n",
       "  </thead>\n",
       "  <tbody>\n",
       "    <tr>\n",
       "      <th>0</th>\n",
       "      <td>0</td>\n",
       "      <td>18.0</td>\n",
       "      <td>17</td>\n",
       "      <td>1</td>\n",
       "      <td>4</td>\n",
       "      <td>0</td>\n",
       "      <td>1</td>\n",
       "      <td>0</td>\n",
       "      <td>1</td>\n",
       "      <td>0</td>\n",
       "    </tr>\n",
       "    <tr>\n",
       "      <th>1</th>\n",
       "      <td>1</td>\n",
       "      <td>21.0</td>\n",
       "      <td>25</td>\n",
       "      <td>2</td>\n",
       "      <td>4</td>\n",
       "      <td>0</td>\n",
       "      <td>0</td>\n",
       "      <td>1</td>\n",
       "      <td>0</td>\n",
       "      <td>0</td>\n",
       "    </tr>\n",
       "    <tr>\n",
       "      <th>2</th>\n",
       "      <td>1</td>\n",
       "      <td>19.0</td>\n",
       "      <td>4</td>\n",
       "      <td>1</td>\n",
       "      <td>4</td>\n",
       "      <td>0</td>\n",
       "      <td>1</td>\n",
       "      <td>1</td>\n",
       "      <td>1</td>\n",
       "      <td>0</td>\n",
       "    </tr>\n",
       "    <tr>\n",
       "      <th>3</th>\n",
       "      <td>0</td>\n",
       "      <td>22.0</td>\n",
       "      <td>33</td>\n",
       "      <td>3</td>\n",
       "      <td>4</td>\n",
       "      <td>1</td>\n",
       "      <td>1</td>\n",
       "      <td>0</td>\n",
       "      <td>0</td>\n",
       "      <td>0</td>\n",
       "    </tr>\n",
       "    <tr>\n",
       "      <th>4</th>\n",
       "      <td>1</td>\n",
       "      <td>23.0</td>\n",
       "      <td>37</td>\n",
       "      <td>4</td>\n",
       "      <td>4</td>\n",
       "      <td>0</td>\n",
       "      <td>0</td>\n",
       "      <td>0</td>\n",
       "      <td>0</td>\n",
       "      <td>0</td>\n",
       "    </tr>\n",
       "  </tbody>\n",
       "</table>\n",
       "</div>"
      ],
      "text/plain": [
       "   Gender   Age  Major  Year  CGPA  Marriage  Depression  Anxiety  Panic  \\\n",
       "0       0  18.0     17     1     4         0           1        0      1   \n",
       "1       1  21.0     25     2     4         0           0        1      0   \n",
       "2       1  19.0      4     1     4         0           1        1      1   \n",
       "3       0  22.0     33     3     4         1           1        0      0   \n",
       "4       1  23.0     37     4     4         0           0        0      0   \n",
       "\n",
       "   Treatment  \n",
       "0          0  \n",
       "1          0  \n",
       "2          0  \n",
       "3          0  \n",
       "4          0  "
      ]
     },
     "execution_count": 29,
     "metadata": {},
     "output_type": "execute_result"
    }
   ],
   "source": [
    "df.head()"
   ]
  },
  {
   "cell_type": "code",
   "execution_count": 30,
   "id": "965f03bc",
   "metadata": {},
   "outputs": [
    {
     "data": {
      "text/plain": [
       "((100, 9), (100,))"
      ]
     },
     "execution_count": 30,
     "metadata": {},
     "output_type": "execute_result"
    }
   ],
   "source": [
    "# Splitting the data\n",
    "from sklearn.model_selection import train_test_split\n",
    "\n",
    "X=df.drop(['Depression'],axis=1).values\n",
    "y=df['Depression'].values\n",
    "\n",
    "X.shape,y.shape\n"
   ]
  },
  {
   "cell_type": "code",
   "execution_count": 31,
   "id": "23b9c28a",
   "metadata": {},
   "outputs": [
    {
     "data": {
      "text/plain": [
       "((80, 9), (20, 9), (80,), (20,))"
      ]
     },
     "execution_count": 31,
     "metadata": {},
     "output_type": "execute_result"
    }
   ],
   "source": [
    "X_train,X_test,y_train,y_test = train_test_split(X,y,random_state=42,test_size=0.2)\n",
    "X_train.shape,X_test.shape,y_train.shape,y_test.shape"
   ]
  },
  {
   "cell_type": "code",
   "execution_count": 32,
   "id": "5b39004d",
   "metadata": {},
   "outputs": [],
   "source": [
    "from sklearn.preprocessing import MinMaxScaler\n",
    "\n",
    "scaler = MinMaxScaler()\n",
    "norm_X_train = scaler.fit_transform(X_train)\n",
    "norm_X_test = scaler.transform(X_test)"
   ]
  },
  {
   "cell_type": "code",
   "execution_count": 33,
   "id": "b880788b",
   "metadata": {},
   "outputs": [],
   "source": [
    "len(X_train),len(norm_X_train)\n",
    "from tensorflow.keras.layers import Dense, Dropout\n",
    "from tensorflow.keras import Sequential"
   ]
  },
  {
   "cell_type": "code",
   "execution_count": 34,
   "id": "27c11491",
   "metadata": {},
   "outputs": [
    {
     "name": "stdout",
     "output_type": "stream",
     "text": [
      "Epoch 1/50\n",
      "3/3 [==============================] - 2s 206ms/step - loss: 2.9150 - accuracy: 0.5500 - val_loss: 0.6999 - val_accuracy: 0.7500\n",
      "Epoch 2/50\n",
      "3/3 [==============================] - 0s 32ms/step - loss: 2.5072 - accuracy: 0.5500 - val_loss: 0.6481 - val_accuracy: 0.6500\n",
      "Epoch 3/50\n",
      "3/3 [==============================] - 0s 34ms/step - loss: 2.0367 - accuracy: 0.5875 - val_loss: 0.6062 - val_accuracy: 0.6000\n",
      "Epoch 4/50\n",
      "3/3 [==============================] - 0s 34ms/step - loss: 1.7098 - accuracy: 0.5500 - val_loss: 0.6022 - val_accuracy: 0.5500\n",
      "Epoch 5/50\n",
      "3/3 [==============================] - 0s 34ms/step - loss: 1.4535 - accuracy: 0.4875 - val_loss: 0.6393 - val_accuracy: 0.5000\n",
      "Epoch 6/50\n",
      "3/3 [==============================] - 0s 33ms/step - loss: 1.2324 - accuracy: 0.4500 - val_loss: 0.6696 - val_accuracy: 0.5500\n",
      "Epoch 7/50\n",
      "3/3 [==============================] - 0s 38ms/step - loss: 1.0321 - accuracy: 0.3875 - val_loss: 0.6855 - val_accuracy: 0.5000\n",
      "Epoch 8/50\n",
      "3/3 [==============================] - 0s 41ms/step - loss: 0.9182 - accuracy: 0.3125 - val_loss: 0.6841 - val_accuracy: 0.5500\n",
      "Epoch 9/50\n",
      "3/3 [==============================] - 0s 38ms/step - loss: 0.8275 - accuracy: 0.3250 - val_loss: 0.6728 - val_accuracy: 0.6000\n",
      "Epoch 10/50\n",
      "3/3 [==============================] - 0s 38ms/step - loss: 0.7448 - accuracy: 0.4125 - val_loss: 0.6300 - val_accuracy: 0.6000\n",
      "Epoch 11/50\n",
      "3/3 [==============================] - 0s 34ms/step - loss: 0.6815 - accuracy: 0.5750 - val_loss: 0.5900 - val_accuracy: 0.7500\n",
      "Epoch 12/50\n",
      "3/3 [==============================] - 0s 38ms/step - loss: 0.6648 - accuracy: 0.6500 - val_loss: 0.5629 - val_accuracy: 0.7500\n",
      "Epoch 13/50\n",
      "3/3 [==============================] - 0s 35ms/step - loss: 0.6555 - accuracy: 0.6500 - val_loss: 0.5658 - val_accuracy: 0.7500\n",
      "Epoch 14/50\n",
      "3/3 [==============================] - 0s 41ms/step - loss: 0.6487 - accuracy: 0.6625 - val_loss: 0.5799 - val_accuracy: 0.7000\n",
      "Epoch 15/50\n",
      "3/3 [==============================] - 0s 36ms/step - loss: 0.6385 - accuracy: 0.6750 - val_loss: 0.5896 - val_accuracy: 0.7000\n",
      "Epoch 16/50\n",
      "3/3 [==============================] - 0s 33ms/step - loss: 0.6307 - accuracy: 0.6875 - val_loss: 0.6020 - val_accuracy: 0.7000\n",
      "Epoch 17/50\n",
      "3/3 [==============================] - 0s 34ms/step - loss: 0.6220 - accuracy: 0.7000 - val_loss: 0.6103 - val_accuracy: 0.7000\n",
      "Epoch 18/50\n",
      "3/3 [==============================] - 0s 35ms/step - loss: 0.6160 - accuracy: 0.6875 - val_loss: 0.6181 - val_accuracy: 0.7000\n",
      "Epoch 19/50\n",
      "3/3 [==============================] - 0s 40ms/step - loss: 0.6095 - accuracy: 0.6875 - val_loss: 0.6188 - val_accuracy: 0.7000\n",
      "Epoch 20/50\n",
      "3/3 [==============================] - 0s 35ms/step - loss: 0.6043 - accuracy: 0.6875 - val_loss: 0.6210 - val_accuracy: 0.7000\n",
      "Epoch 21/50\n",
      "3/3 [==============================] - 0s 48ms/step - loss: 0.5997 - accuracy: 0.6875 - val_loss: 0.6366 - val_accuracy: 0.7000\n",
      "Epoch 22/50\n",
      "3/3 [==============================] - 0s 34ms/step - loss: 0.6001 - accuracy: 0.6750 - val_loss: 0.6507 - val_accuracy: 0.6500\n",
      "Epoch 23/50\n",
      "3/3 [==============================] - 0s 33ms/step - loss: 0.5968 - accuracy: 0.6875 - val_loss: 0.6403 - val_accuracy: 0.6500\n",
      "Epoch 24/50\n",
      "3/3 [==============================] - 0s 38ms/step - loss: 0.5909 - accuracy: 0.6875 - val_loss: 0.6342 - val_accuracy: 0.7000\n",
      "Epoch 25/50\n",
      "3/3 [==============================] - 0s 52ms/step - loss: 0.5869 - accuracy: 0.7000 - val_loss: 0.6192 - val_accuracy: 0.7000\n",
      "Epoch 26/50\n",
      "3/3 [==============================] - 0s 28ms/step - loss: 0.5833 - accuracy: 0.6875 - val_loss: 0.6163 - val_accuracy: 0.7000\n",
      "Epoch 27/50\n",
      "3/3 [==============================] - 0s 31ms/step - loss: 0.5808 - accuracy: 0.6875 - val_loss: 0.6203 - val_accuracy: 0.7000\n",
      "Epoch 28/50\n",
      "3/3 [==============================] - 0s 29ms/step - loss: 0.5795 - accuracy: 0.6875 - val_loss: 0.6265 - val_accuracy: 0.6500\n",
      "Epoch 29/50\n",
      "3/3 [==============================] - 0s 36ms/step - loss: 0.5766 - accuracy: 0.6750 - val_loss: 0.6461 - val_accuracy: 0.6500\n",
      "Epoch 30/50\n",
      "3/3 [==============================] - 0s 35ms/step - loss: 0.5749 - accuracy: 0.6875 - val_loss: 0.6587 - val_accuracy: 0.6000\n",
      "Epoch 31/50\n",
      "3/3 [==============================] - 0s 35ms/step - loss: 0.5750 - accuracy: 0.6875 - val_loss: 0.6685 - val_accuracy: 0.6000\n",
      "Epoch 32/50\n",
      "3/3 [==============================] - 0s 34ms/step - loss: 0.5743 - accuracy: 0.6875 - val_loss: 0.6646 - val_accuracy: 0.6000\n",
      "Epoch 33/50\n",
      "3/3 [==============================] - 0s 35ms/step - loss: 0.5730 - accuracy: 0.6875 - val_loss: 0.6453 - val_accuracy: 0.6500\n",
      "Epoch 34/50\n",
      "3/3 [==============================] - 0s 34ms/step - loss: 0.5701 - accuracy: 0.6875 - val_loss: 0.6453 - val_accuracy: 0.6500\n",
      "Epoch 35/50\n",
      "3/3 [==============================] - 0s 33ms/step - loss: 0.5688 - accuracy: 0.6875 - val_loss: 0.6423 - val_accuracy: 0.6500\n",
      "Epoch 36/50\n",
      "3/3 [==============================] - 0s 30ms/step - loss: 0.5668 - accuracy: 0.6875 - val_loss: 0.6479 - val_accuracy: 0.6500\n",
      "Epoch 37/50\n",
      "3/3 [==============================] - 0s 29ms/step - loss: 0.5646 - accuracy: 0.6875 - val_loss: 0.6557 - val_accuracy: 0.6000\n",
      "Epoch 38/50\n",
      "3/3 [==============================] - 0s 38ms/step - loss: 0.5640 - accuracy: 0.6875 - val_loss: 0.6652 - val_accuracy: 0.6000\n",
      "Epoch 39/50\n",
      "3/3 [==============================] - 0s 29ms/step - loss: 0.5619 - accuracy: 0.7000 - val_loss: 0.6604 - val_accuracy: 0.6000\n",
      "Epoch 40/50\n",
      "3/3 [==============================] - 0s 30ms/step - loss: 0.5646 - accuracy: 0.6875 - val_loss: 0.6444 - val_accuracy: 0.6500\n",
      "Epoch 41/50\n",
      "3/3 [==============================] - 0s 30ms/step - loss: 0.5580 - accuracy: 0.6875 - val_loss: 0.6626 - val_accuracy: 0.6000\n",
      "Epoch 42/50\n",
      "3/3 [==============================] - 0s 31ms/step - loss: 0.5580 - accuracy: 0.7000 - val_loss: 0.6825 - val_accuracy: 0.6000\n",
      "Epoch 43/50\n",
      "3/3 [==============================] - 0s 31ms/step - loss: 0.5580 - accuracy: 0.7125 - val_loss: 0.6830 - val_accuracy: 0.6000\n",
      "Epoch 44/50\n",
      "3/3 [==============================] - 0s 31ms/step - loss: 0.5557 - accuracy: 0.7125 - val_loss: 0.6651 - val_accuracy: 0.6000\n",
      "Epoch 45/50\n",
      "3/3 [==============================] - 0s 33ms/step - loss: 0.5567 - accuracy: 0.6875 - val_loss: 0.6372 - val_accuracy: 0.6500\n",
      "Epoch 46/50\n",
      "3/3 [==============================] - 0s 30ms/step - loss: 0.5584 - accuracy: 0.6750 - val_loss: 0.6251 - val_accuracy: 0.6500\n",
      "Epoch 47/50\n",
      "3/3 [==============================] - 0s 41ms/step - loss: 0.5533 - accuracy: 0.7000 - val_loss: 0.6445 - val_accuracy: 0.6500\n",
      "Epoch 48/50\n",
      "3/3 [==============================] - 0s 29ms/step - loss: 0.5518 - accuracy: 0.7000 - val_loss: 0.6713 - val_accuracy: 0.6000\n",
      "Epoch 49/50\n",
      "3/3 [==============================] - 0s 34ms/step - loss: 0.5514 - accuracy: 0.7375 - val_loss: 0.6857 - val_accuracy: 0.6000\n",
      "Epoch 50/50\n",
      "3/3 [==============================] - 0s 33ms/step - loss: 0.5518 - accuracy: 0.7375 - val_loss: 0.6803 - val_accuracy: 0.6000\n"
     ]
    }
   ],
   "source": [
    "# baseline model\n",
    "model = Sequential([\n",
    "    tf.keras.layers.Input(shape=(9,)),\n",
    "    Dense(9),\n",
    "    Dense(18,activation='relu'),\n",
    "    Dense(9,activation='relu'),\n",
    "    Dense(1,activation='sigmoid')\n",
    "])\n",
    "\n",
    "model.compile(loss='binary_crossentropy',\n",
    "              optimizer='adam',\n",
    "              metrics=['accuracy'])\n",
    "\n",
    "history = model.fit(X_train,y_train,validation_data=[X_test,y_test],\n",
    "          epochs = 50)"
   ]
  },
  {
   "cell_type": "code",
   "execution_count": 35,
   "id": "775985da",
   "metadata": {},
   "outputs": [],
   "source": [
    "  def plot_histories(history):\n",
    "    acc = history.history['accuracy']\n",
    "    val_acc = history.history['val_accuracy']\n",
    "\n",
    "    loss = history.history['loss']\n",
    "    val_loss = history.history['val_loss']\n",
    "\n",
    "    plt.figure(figsize=(10,8))\n",
    "    plt.subplot(1,2,1)\n",
    "    plt.plot(acc)\n",
    "    plt.plot(val_acc)\n",
    "    plt.title('acc')\n",
    "\n",
    "    plt.subplot(1,2,1)\n",
    "    plt.plot(loss)\n",
    "    plt.plot(val_loss)\n",
    "    plt.title('loss')"
   ]
  },
  {
   "cell_type": "code",
   "execution_count": 36,
   "id": "b53d47d4",
   "metadata": {},
   "outputs": [
    {
     "data": {
      "image/png": "[encoded data removed]",
      "text/plain": [
       "<Figure size 1000x800 with 1 Axes>"
      ]
     },
     "metadata": {},
     "output_type": "display_data"
    }
   ],
   "source": [
    "plot_histories(history)"
   ]
  },
  {
   "cell_type": "code",
   "execution_count": 37,
   "id": "8bac2b76",
   "metadata": {},
   "outputs": [],
   "source": [
    "from sklearn.metrics import classification_report, accuracy_score,f1_score,recall_score, precision_score, confusion_matrix, ConfusionMatrixDisplay\n",
    "\n",
    "def evaluations(y_test,pred_labels):\n",
    "    acc = accuracy_score(y_test,pred_labels)\n",
    "    prec = precision_score(y_test,pred_labels)\n",
    "    f1 = f1_score(y_test,pred_labels)\n",
    "    recall = recall_score(y_test,pred_labels)\n",
    "    print(f'accuracy: {acc:.2f}, precision: {prec:.2f}, f1 score: {f1:.2f}, recall: {recall:.2f}')"
   ]
  },
  {
   "cell_type": "code",
   "execution_count": 38,
   "id": "02cff841",
   "metadata": {},
   "outputs": [
    {
     "name": "stdout",
     "output_type": "stream",
     "text": [
      "1/1 [==============================] - 0s 98ms/step - loss: 0.6803 - accuracy: 0.6000\n"
     ]
    },
    {
     "data": {
      "text/plain": [
       "[0.6802778244018555, 0.6000000238418579]"
      ]
     },
     "execution_count": 38,
     "metadata": {},
     "output_type": "execute_result"
    }
   ],
   "source": [
    "model.evaluate(X_test,y_test)"
   ]
  },
  {
   "cell_type": "code",
   "execution_count": 39,
   "id": "52fd9e01",
   "metadata": {},
   "outputs": [
    {
     "name": "stdout",
     "output_type": "stream",
     "text": [
      "1/1 [==============================] - 0s 206ms/step\n",
      "accuracy: 0.70, precision: 0.45, f1 score: 0.62, recall: 1.00\n"
     ]
    }
   ],
   "source": [
    "predictions = model.predict(norm_X_test)\n",
    "pred_labels = [int(round(x[0])) for x in predictions]\n",
    "\n",
    "evaluations(y_test,pred_labels)"
   ]
  },
  {
   "cell_type": "code",
   "execution_count": 40,
   "id": "727c40fd",
   "metadata": {},
   "outputs": [
    {
     "data": {
      "text/plain": [
       "Text(0.5, 1.0, 'Confusion matrix of unnormalized model')"
      ]
     },
     "execution_count": 40,
     "metadata": {},
     "output_type": "execute_result"
    },
    {
     "data": {
      "image/png": "[encoded data removed]",
      "text/plain": [
       "<Figure size 640x480 with 2 Axes>"
      ]
     },
     "metadata": {},
     "output_type": "display_data"
    }
   ],
   "source": [
    "cm = confusion_matrix(y_test,pred_labels)\n",
    "cm\n",
    "disp = ConfusionMatrixDisplay(cm)\n",
    "disp.plot()\n",
    "plt.title('Confusion matrix of unnormalized model')"
   ]
  },
  {
   "cell_type": "code",
   "execution_count": 41,
   "id": "ccc93877",
   "metadata": {},
   "outputs": [
    {
     "name": "stdout",
     "output_type": "stream",
     "text": [
      "              precision    recall  f1-score   support\n",
      "\n",
      "           0       1.00      0.60      0.75        15\n",
      "           1       0.45      1.00      0.62         5\n",
      "\n",
      "    accuracy                           0.70        20\n",
      "   macro avg       0.73      0.80      0.69        20\n",
      "weighted avg       0.86      0.70      0.72        20\n",
      "\n"
     ]
    }
   ],
   "source": [
    "print(classification_report(y_test, pred_labels, zero_division=1))"
   ]
  },
  {
   "cell_type": "code",
   "execution_count": 42,
   "id": "302afd7b",
   "metadata": {},
   "outputs": [
    {
     "name": "stdout",
     "output_type": "stream",
     "text": [
      "Epoch 1/50\n",
      "3/3 [==============================] - 3s 190ms/step - loss: 0.7008 - accuracy: 0.4000 - val_loss: 0.7045 - val_accuracy: 0.3500\n",
      "Epoch 2/50\n",
      "3/3 [==============================] - 0s 36ms/step - loss: 0.6962 - accuracy: 0.4500 - val_loss: 0.6995 - val_accuracy: 0.3500\n",
      "Epoch 3/50\n",
      "3/3 [==============================] - 0s 39ms/step - loss: 0.6925 - accuracy: 0.5000 - val_loss: 0.6950 - val_accuracy: 0.4500\n",
      "Epoch 4/50\n",
      "3/3 [==============================] - 0s 35ms/step - loss: 0.6892 - accuracy: 0.6000 - val_loss: 0.6915 - val_accuracy: 0.6500\n",
      "Epoch 5/50\n",
      "3/3 [==============================] - 0s 32ms/step - loss: 0.6862 - accuracy: 0.6500 - val_loss: 0.6887 - val_accuracy: 0.7000\n",
      "Epoch 6/50\n",
      "3/3 [==============================] - 0s 37ms/step - loss: 0.6836 - accuracy: 0.6875 - val_loss: 0.6863 - val_accuracy: 0.7000\n",
      "Epoch 7/50\n",
      "3/3 [==============================] - 0s 31ms/step - loss: 0.6810 - accuracy: 0.7250 - val_loss: 0.6838 - val_accuracy: 0.7000\n",
      "Epoch 8/50\n",
      "3/3 [==============================] - 0s 29ms/step - loss: 0.6785 - accuracy: 0.7625 - val_loss: 0.6810 - val_accuracy: 0.7500\n",
      "Epoch 9/50\n",
      "3/3 [==============================] - 0s 31ms/step - loss: 0.6760 - accuracy: 0.7375 - val_loss: 0.6779 - val_accuracy: 0.7500\n",
      "Epoch 10/50\n",
      "3/3 [==============================] - 0s 31ms/step - loss: 0.6725 - accuracy: 0.7375 - val_loss: 0.6747 - val_accuracy: 0.8000\n",
      "Epoch 11/50\n",
      "3/3 [==============================] - 0s 30ms/step - loss: 0.6687 - accuracy: 0.7500 - val_loss: 0.6716 - val_accuracy: 0.8000\n",
      "Epoch 12/50\n",
      "3/3 [==============================] - 0s 30ms/step - loss: 0.6644 - accuracy: 0.7500 - val_loss: 0.6676 - val_accuracy: 0.8000\n",
      "Epoch 13/50\n",
      "3/3 [==============================] - 0s 30ms/step - loss: 0.6600 - accuracy: 0.7500 - val_loss: 0.6627 - val_accuracy: 0.8500\n",
      "Epoch 14/50\n",
      "3/3 [==============================] - 0s 37ms/step - loss: 0.6548 - accuracy: 0.7625 - val_loss: 0.6571 - val_accuracy: 0.8000\n",
      "Epoch 15/50\n",
      "3/3 [==============================] - 0s 37ms/step - loss: 0.6495 - accuracy: 0.7625 - val_loss: 0.6505 - val_accuracy: 0.8000\n",
      "Epoch 16/50\n",
      "3/3 [==============================] - 0s 38ms/step - loss: 0.6438 - accuracy: 0.8125 - val_loss: 0.6435 - val_accuracy: 0.8000\n",
      "Epoch 17/50\n",
      "3/3 [==============================] - 0s 35ms/step - loss: 0.6390 - accuracy: 0.8000 - val_loss: 0.6360 - val_accuracy: 0.8000\n",
      "Epoch 18/50\n",
      "3/3 [==============================] - 0s 38ms/step - loss: 0.6323 - accuracy: 0.8000 - val_loss: 0.6299 - val_accuracy: 0.8000\n",
      "Epoch 19/50\n",
      "3/3 [==============================] - 0s 45ms/step - loss: 0.6266 - accuracy: 0.8000 - val_loss: 0.6231 - val_accuracy: 0.8000\n",
      "Epoch 20/50\n",
      "3/3 [==============================] - 0s 33ms/step - loss: 0.6201 - accuracy: 0.8125 - val_loss: 0.6161 - val_accuracy: 0.8000\n",
      "Epoch 21/50\n",
      "3/3 [==============================] - 0s 36ms/step - loss: 0.6133 - accuracy: 0.8125 - val_loss: 0.6086 - val_accuracy: 0.8000\n",
      "Epoch 22/50\n",
      "3/3 [==============================] - 0s 41ms/step - loss: 0.6065 - accuracy: 0.8125 - val_loss: 0.5998 - val_accuracy: 0.8000\n",
      "Epoch 23/50\n",
      "3/3 [==============================] - 0s 43ms/step - loss: 0.5984 - accuracy: 0.8125 - val_loss: 0.5905 - val_accuracy: 0.8000\n",
      "Epoch 24/50\n",
      "3/3 [==============================] - 0s 35ms/step - loss: 0.5897 - accuracy: 0.8250 - val_loss: 0.5806 - val_accuracy: 0.8000\n",
      "Epoch 25/50\n",
      "3/3 [==============================] - 0s 44ms/step - loss: 0.5813 - accuracy: 0.8250 - val_loss: 0.5703 - val_accuracy: 0.8000\n",
      "Epoch 26/50\n",
      "3/3 [==============================] - 0s 39ms/step - loss: 0.5707 - accuracy: 0.8250 - val_loss: 0.5599 - val_accuracy: 0.8500\n",
      "Epoch 27/50\n",
      "3/3 [==============================] - 0s 35ms/step - loss: 0.5613 - accuracy: 0.8250 - val_loss: 0.5477 - val_accuracy: 0.8500\n",
      "Epoch 28/50\n",
      "3/3 [==============================] - 0s 36ms/step - loss: 0.5510 - accuracy: 0.8250 - val_loss: 0.5359 - val_accuracy: 0.8500\n",
      "Epoch 29/50\n",
      "3/3 [==============================] - 0s 35ms/step - loss: 0.5409 - accuracy: 0.8250 - val_loss: 0.5242 - val_accuracy: 0.8500\n",
      "Epoch 30/50\n",
      "3/3 [==============================] - 0s 46ms/step - loss: 0.5290 - accuracy: 0.8250 - val_loss: 0.5124 - val_accuracy: 0.8500\n",
      "Epoch 31/50\n",
      "3/3 [==============================] - 0s 38ms/step - loss: 0.5193 - accuracy: 0.8250 - val_loss: 0.4999 - val_accuracy: 0.8500\n",
      "Epoch 32/50\n",
      "3/3 [==============================] - 0s 32ms/step - loss: 0.5092 - accuracy: 0.8250 - val_loss: 0.4874 - val_accuracy: 0.8500\n",
      "Epoch 33/50\n",
      "3/3 [==============================] - 0s 32ms/step - loss: 0.4990 - accuracy: 0.8250 - val_loss: 0.4755 - val_accuracy: 0.8500\n",
      "Epoch 34/50\n",
      "3/3 [==============================] - 0s 38ms/step - loss: 0.4891 - accuracy: 0.8250 - val_loss: 0.4644 - val_accuracy: 0.8500\n",
      "Epoch 35/50\n",
      "3/3 [==============================] - 0s 36ms/step - loss: 0.4796 - accuracy: 0.8250 - val_loss: 0.4546 - val_accuracy: 0.8500\n",
      "Epoch 36/50\n",
      "3/3 [==============================] - 0s 32ms/step - loss: 0.4711 - accuracy: 0.8250 - val_loss: 0.4451 - val_accuracy: 0.8500\n",
      "Epoch 37/50\n",
      "3/3 [==============================] - 0s 34ms/step - loss: 0.4611 - accuracy: 0.8250 - val_loss: 0.4381 - val_accuracy: 0.8500\n",
      "Epoch 38/50\n",
      "3/3 [==============================] - 0s 37ms/step - loss: 0.4529 - accuracy: 0.8250 - val_loss: 0.4310 - val_accuracy: 0.8500\n",
      "Epoch 39/50\n",
      "3/3 [==============================] - 0s 38ms/step - loss: 0.4449 - accuracy: 0.8125 - val_loss: 0.4240 - val_accuracy: 0.8500\n",
      "Epoch 40/50\n",
      "3/3 [==============================] - 0s 42ms/step - loss: 0.4375 - accuracy: 0.8250 - val_loss: 0.4157 - val_accuracy: 0.8500\n",
      "Epoch 41/50\n",
      "3/3 [==============================] - 0s 34ms/step - loss: 0.4296 - accuracy: 0.8250 - val_loss: 0.4099 - val_accuracy: 0.8500\n",
      "Epoch 42/50\n",
      "3/3 [==============================] - 0s 35ms/step - loss: 0.4223 - accuracy: 0.8125 - val_loss: 0.4021 - val_accuracy: 0.8500\n",
      "Epoch 43/50\n",
      "3/3 [==============================] - 0s 46ms/step - loss: 0.4163 - accuracy: 0.8125 - val_loss: 0.3956 - val_accuracy: 0.9000\n",
      "Epoch 44/50\n",
      "3/3 [==============================] - 0s 38ms/step - loss: 0.4105 - accuracy: 0.8125 - val_loss: 0.3884 - val_accuracy: 0.9000\n",
      "Epoch 45/50\n",
      "3/3 [==============================] - 0s 36ms/step - loss: 0.4056 - accuracy: 0.8125 - val_loss: 0.3825 - val_accuracy: 0.9000\n",
      "Epoch 46/50\n",
      "3/3 [==============================] - 0s 39ms/step - loss: 0.4014 - accuracy: 0.8125 - val_loss: 0.3786 - val_accuracy: 0.9000\n",
      "Epoch 47/50\n",
      "3/3 [==============================] - 0s 33ms/step - loss: 0.3964 - accuracy: 0.8125 - val_loss: 0.3777 - val_accuracy: 0.9000\n",
      "Epoch 48/50\n",
      "3/3 [==============================] - 0s 34ms/step - loss: 0.3924 - accuracy: 0.8125 - val_loss: 0.3761 - val_accuracy: 0.9000\n",
      "Epoch 49/50\n",
      "3/3 [==============================] - 0s 33ms/step - loss: 0.3887 - accuracy: 0.8375 - val_loss: 0.3731 - val_accuracy: 0.9000\n",
      "Epoch 50/50\n",
      "3/3 [==============================] - 0s 32ms/step - loss: 0.3847 - accuracy: 0.8375 - val_loss: 0.3701 - val_accuracy: 0.9000\n"
     ]
    }
   ],
   "source": [
    "# baseline model\n",
    "model1 = Sequential([\n",
    "    Dense(9),\n",
    "    Dense(18,activation='relu'), #18 neurons, ReLU activation function\n",
    "    Dense(18,activation='relu'), #18 neurons, ReLU activation function\n",
    "    Dense(9,activation='relu'), #9 neurons, ReLU activation function\n",
    "    Dense(1,activation='sigmoid') #1 output neuron, sigmoid activation function for binary classification\n",
    "])\n",
    "\n",
    "model1.compile(loss='binary_crossentropy',\n",
    "              optimizer='adam',\n",
    "              metrics=['accuracy'])\n",
    "\n",
    "history1 = model1.fit(norm_X_train,y_train,validation_data=[norm_X_test,y_test],\n",
    "          epochs = 50)"
   ]
  },
  {
   "cell_type": "code",
   "execution_count": 43,
   "id": "6c2dc37b",
   "metadata": {},
   "outputs": [
    {
     "data": {
      "image/png": "[encoded data removed]",
      "text/plain": [
       "<Figure size 1000x800 with 1 Axes>"
      ]
     },
     "metadata": {},
     "output_type": "display_data"
    }
   ],
   "source": [
    "plot_histories(history1)"
   ]
  },
  {
   "cell_type": "code",
   "execution_count": 44,
   "id": "75e06aa5",
   "metadata": {},
   "outputs": [
    {
     "name": "stdout",
     "output_type": "stream",
     "text": [
      "1/1 [==============================] - 0s 51ms/step - loss: 0.3701 - accuracy: 0.9000\n"
     ]
    },
    {
     "data": {
      "text/plain": [
       "[0.3700989782810211, 0.8999999761581421]"
      ]
     },
     "execution_count": 44,
     "metadata": {},
     "output_type": "execute_result"
    }
   ],
   "source": [
    "model1.evaluate(norm_X_test,y_test)"
   ]
  },
  {
   "cell_type": "code",
   "execution_count": 45,
   "id": "c2f8b60a",
   "metadata": {},
   "outputs": [
    {
     "name": "stdout",
     "output_type": "stream",
     "text": [
      "1/1 [==============================] - 0s 174ms/step\n",
      "accuracy: 0.90, precision: 1.00, f1 score: 0.75, recall: 0.60\n"
     ]
    }
   ],
   "source": [
    "predictions = model1.predict(norm_X_test)\n",
    "pred_labels = [int(round(x[0])) for x in predictions]\n",
    "\n",
    "evaluations(y_test,pred_labels)"
   ]
  },
  {
   "cell_type": "code",
   "execution_count": 46,
   "id": "14cea85c",
   "metadata": {},
   "outputs": [
    {
     "data": {
      "text/plain": [
       "<sklearn.metrics._plot.confusion_matrix.ConfusionMatrixDisplay at 0x1a74f9ec710>"
      ]
     },
     "execution_count": 46,
     "metadata": {},
     "output_type": "execute_result"
    },
    {
     "data": {
      "image/png": "[encoded data removed]",
      "text/plain": [
       "<Figure size 640x480 with 2 Axes>"
      ]
     },
     "metadata": {},
     "output_type": "display_data"
    }
   ],
   "source": [
    "cm = confusion_matrix(y_test,pred_labels)\n",
    "disp = ConfusionMatrixDisplay(cm)\n",
    "disp.plot()"
   ]
  },
  {
   "cell_type": "code",
   "execution_count": 47,
   "id": "8dfe1b7e",
   "metadata": {},
   "outputs": [
    {
     "name": "stdout",
     "output_type": "stream",
     "text": [
      "              precision    recall  f1-score   support\n",
      "\n",
      "           0       0.88      1.00      0.94        15\n",
      "           1       1.00      0.60      0.75         5\n",
      "\n",
      "    accuracy                           0.90        20\n",
      "   macro avg       0.94      0.80      0.84        20\n",
      "weighted avg       0.91      0.90      0.89        20\n",
      "\n"
     ]
    }
   ],
   "source": [
    "print(classification_report(y_test,pred_labels))"
   ]
  },
  {
   "cell_type": "code",
   "execution_count": 48,
   "id": "a3e226f1",
   "metadata": {},
   "outputs": [
    {
     "data": {
      "text/plain": [
       "<matplotlib.legend.Legend at 0x1a75145d190>"
      ]
     },
     "execution_count": 48,
     "metadata": {},
     "output_type": "execute_result"
    },
    {
     "data": {
      "image/png": "[encoded data removed]",
      "text/plain": [
       "<Figure size 1000x400 with 2 Axes>"
      ]
     },
     "metadata": {},
     "output_type": "display_data"
    }
   ],
   "source": [
    "plt.figure(figsize=(10,4))\n",
    "plt.subplot(1,2,1)\n",
    "plt.plot(history.history['accuracy'])\n",
    "plt.plot(history.history['val_accuracy'])\n",
    "plt.title('Unnormalized Model')\n",
    "plt.legend(['Accuracy','Val accuracy'])\n",
    "\n",
    "plt.subplot(1,2,2)\n",
    "plt.plot(history1.history['accuracy'])\n",
    "plt.plot(history1.history['val_accuracy'])\n",
    "plt.title('Normalized Model')\n",
    "plt.legend(['Accuracy','Val accuracy'])"
   ]
  },
  {
   "cell_type": "code",
   "execution_count": 49,
   "id": "3e3c8b0a",
   "metadata": {},
   "outputs": [
    {
     "data": {
      "text/plain": [
       "<Axes: >"
      ]
     },
     "execution_count": 49,
     "metadata": {},
     "output_type": "execute_result"
    },
    {
     "data": {
      "image/png": "[encoded data removed]",
      "text/plain": [
       "<Figure size 640x480 with 2 Axes>"
      ]
     },
     "metadata": {},
     "output_type": "display_data"
    }
   ],
   "source": [
    "sns.heatmap(df.corr())"
   ]
  },
  {
   "cell_type": "code",
   "execution_count": 50,
   "id": "dc0a6ccf",
   "metadata": {},
   "outputs": [
    {
     "data": {
      "text/plain": [
       "Text(0.5, 1.0, \"Features' correlation to the Depression\")"
      ]
     },
     "execution_count": 50,
     "metadata": {},
     "output_type": "execute_result"
    },
    {
     "data": {
      "image/png": "[encoded data removed]",
      "text/plain": [
       "<Figure size 1800x400 with 1 Axes>"
      ]
     },
     "metadata": {},
     "output_type": "display_data"
    }
   ],
   "source": [
    "plt.figure(figsize=(18,4))\n",
    "df.corr()['Depression'].sort_values(ascending = True)[:-1].plot(kind='bar')\n",
    "plt.xlabel('Features')\n",
    "plt.ylabel('Correlation to blood pressure categories')\n",
    "plt.title('Features\\' correlation to the Depression')"
   ]
  },
  {
   "cell_type": "code",
   "execution_count": null,
   "id": "3c3fc7a5",
   "metadata": {},
   "outputs": [],
   "source": []
  }
 ],
 "metadata": {
  "kernelspec": {
   "display_name": "Python 3 (ipykernel)",
   "language": "python",
   "name": "python3"
  },
  "language_info": {
   "codemirror_mode": {
    "name": "ipython",
    "version": 3
   },
   "file_extension": ".py",
   "mimetype": "text/x-python",
   "name": "python",
   "nbconvert_exporter": "python",
   "pygments_lexer": "ipython3",
   "version": "3.11.5"
  }
 },
 "nbformat": 4,
 "nbformat_minor": 5
}
